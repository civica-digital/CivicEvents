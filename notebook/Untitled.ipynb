{
 "cells": [
  {
   "cell_type": "code",
   "execution_count": 52,
   "metadata": {
    "collapsed": true
   },
   "outputs": [],
   "source": [
    "import os\n",
    "import pickle\n",
    "import pandas as pd \n",
    "from pymongo import MongoClient, ASCENDING\n",
    "from flask import Flask, render_template, request, redirect, url_for, jsonify\n",
    "from datetime import datetime\n"
   ]
  },
  {
   "cell_type": "code",
   "execution_count": 47,
   "metadata": {
    "collapsed": true
   },
   "outputs": [],
   "source": [
    "app = Flask(__name__)\n",
    "\n",
    "client = MongoClient()\n",
    "db = client.log"
   ]
  },
  {
   "cell_type": "code",
   "execution_count": 53,
   "metadata": {
    "collapsed": false
   },
   "outputs": [],
   "source": [
    "a = list(db.events.find({}).sort(\"date\", ASCENDING))"
   ]
  },
  {
   "cell_type": "code",
   "execution_count": 61,
   "metadata": {
    "collapsed": false
   },
   "outputs": [
    {
     "data": {
      "text/plain": [
       "'2016-09-29 11:20:55'"
      ]
     },
     "execution_count": 61,
     "metadata": {},
     "output_type": "execute_result"
    }
   ],
   "source": [
    "a[0][\"date\"].strftime(\"%Y-%m-%d %H:%M:%S\")"
   ]
  },
  {
   "cell_type": "code",
   "execution_count": null,
   "metadata": {
    "collapsed": true
   },
   "outputs": [],
   "source": []
  },
  {
   "cell_type": "code",
   "execution_count": 32,
   "metadata": {
    "collapsed": false
   },
   "outputs": [
    {
     "data": {
      "text/plain": [
       "True"
      ]
     },
     "execution_count": 32,
     "metadata": {},
     "output_type": "execute_result"
    }
   ],
   "source": [
    "a[0][\"date\"].replace(minute=0,second=0,microsecond=0) ==a[1][\"date\"].replace(minute=0,second=0,microsecond=0)"
   ]
  },
  {
   "cell_type": "code",
   "execution_count": 18,
   "metadata": {
    "collapsed": false
   },
   "outputs": [],
   "source": []
  },
  {
   "cell_type": "code",
   "execution_count": 33,
   "metadata": {
    "collapsed": false
   },
   "outputs": [],
   "source": [
    "def timeline(pid,event,period):\n",
    "    if event:\n",
    "        log = list(db.events.find({\"event\":event, \"pid\",pid}))\n",
    "    else:\n",
    "        log = list(db.events.find({\"pid\",pid}))\n",
    "        event = \"All\"\n",
    "    aggregatedLog = aggretate_time(period,log)\n",
    "    responseDict = {\"event\":event, \"pid\":pid, \"log\":aggregatedLog}\n",
    "    return responseDict"
   ]
  },
  {
   "cell_type": "code",
   "execution_count": 35,
   "metadata": {
    "collapsed": false
   },
   "outputs": [],
   "source": [
    "def aggregate_time(period,log):\n",
    "    aggregatedTime = {}\n",
    "    for event in log:\n",
    "        if period=\"year\" :\n",
    "            aggregateTimeEvent = event[\"date\"].replace(month=0, day=0, hour = 0, minute=0,second=0,microsecond=0)\n",
    "        else period=\"month\":\n",
    "             aggregateTimeEvent = event[\"date\"].replace(day=0, hour = 0, minute=0,second=0,microsecond=0)\n",
    "        else period=\"day\":\n",
    "             aggregateTimeEvent = event[\"date\"].replace(hour = 0, minute=0,second=0,microsecond=0)\n",
    "        else period=\"hour\":\n",
    "             aggregateTimeEvent = event[\"date\"].replace(minute=0,second=0,microsecond=0)\n",
    "        else period=\"minute\":\n",
    "            aggregateTimeEvent =  event[\"date\"].replace(second=0,microsecond=0)\n",
    "        if aggregateTimeEvent in aggregatedTime:\n",
    "            aggregatedTime[aggregateTimeEvent] += 1\n",
    "        else:\n",
    "            aggregatedTime[aggregateTimeEvent] = 1"
   ]
  },
  {
   "cell_type": "code",
   "execution_count": 39,
   "metadata": {
    "collapsed": false
   },
   "outputs": [],
   "source": [
    "a =0"
   ]
  },
  {
   "cell_type": "code",
   "execution_count": 40,
   "metadata": {
    "collapsed": true
   },
   "outputs": [],
   "source": [
    "a +=1"
   ]
  },
  {
   "cell_type": "code",
   "execution_count": 41,
   "metadata": {
    "collapsed": false
   },
   "outputs": [
    {
     "data": {
      "text/plain": [
       "1"
      ]
     },
     "execution_count": 41,
     "metadata": {},
     "output_type": "execute_result"
    }
   ],
   "source": [
    "a"
   ]
  },
  {
   "cell_type": "code",
   "execution_count": null,
   "metadata": {
    "collapsed": true
   },
   "outputs": [],
   "source": []
  }
 ],
 "metadata": {
  "kernelspec": {
   "display_name": "Python 3",
   "language": "python",
   "name": "python3"
  },
  "language_info": {
   "codemirror_mode": {
    "name": "ipython",
    "version": 3
   },
   "file_extension": ".py",
   "mimetype": "text/x-python",
   "name": "python",
   "nbconvert_exporter": "python",
   "pygments_lexer": "ipython3",
   "version": "3.4.1"
  }
 },
 "nbformat": 4,
 "nbformat_minor": 0
}
